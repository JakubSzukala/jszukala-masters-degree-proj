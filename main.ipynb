{
 "cells": [
  {
   "cell_type": "code",
   "execution_count": 3,
   "metadata": {},
   "outputs": [
    {
     "name": "stdout",
     "output_type": "stream",
     "text": [
      "Checking environment variables...\n",
      "Environment variables exist.\n"
     ]
    },
    {
     "name": "stderr",
     "output_type": "stream",
     "text": [
      "100%|██████████| 4/4 [00:00<00:00, 443.54it/s]\n",
      "100%|██████████| 6514/6514 [00:27<00:00, 240.48it/s]\n",
      "100%|██████████| 5/5 [00:00<00:00, 30002.17it/s]\n",
      "0it [00:00, ?it/s]\n",
      "100%|██████████| 1334/1334 [00:00<00:00, 40868.33it/s]\n",
      "100%|██████████| 3604/3604 [00:00<00:00, 63400.27it/s]\n",
      "100%|██████████| 1448/1448 [00:00<00:00, 49523.81it/s]\n",
      "0it [00:00, ?it/s]\n",
      "100%|██████████| 1334/1334 [00:00<00:00, 54688.17it/s]\n",
      "100%|██████████| 3604/3604 [00:00<00:00, 60297.22it/s]\n",
      "100%|██████████| 1448/1448 [00:00<00:00, 36871.66it/s]\n"
     ]
    }
   ],
   "source": [
    "import torch\n",
    "\n",
    "import os\n",
    "\n",
    "from data.dataset import WheatHeadsDataset\n",
    "\n",
    "print(\"Checking environment variables...\")\n",
    "assert 'PROJ_PATH' in os.environ\n",
    "assert 'YOLOV7_ROOT_DIR' in os.environ\n",
    "assert 'DATASET_MD5' in os.environ\n",
    "assert 'DATASET_ROOT_DIR' in os.environ\n",
    "assert 'DATA_BUCKET' in os.environ\n",
    "print(\"Environment variables exist.\")\n",
    "\n",
    "DATASET_ROOT_DIR = os.environ['DATASET_ROOT_DIR']\n",
    "\n",
    "t = WheatHeadsDataset(DATASET_ROOT_DIR, 'all', download=False)"
   ]
  },
  {
   "cell_type": "code",
   "execution_count": 5,
   "metadata": {},
   "outputs": [
    {
     "ename": "ValueError",
     "evalue": "not enough values to unpack (expected 3, got 2)",
     "output_type": "error",
     "traceback": [
      "\u001b[0;31m---------------------------------------------------------------------------\u001b[0m",
      "\u001b[0;31mValueError\u001b[0m                                Traceback (most recent call last)",
      "Cell \u001b[0;32mIn[5], line 8\u001b[0m\n\u001b[1;32m      4\u001b[0m get_ipython()\u001b[39m.\u001b[39mrun_line_magic(\u001b[39m'\u001b[39m\u001b[39mmatplotlib\u001b[39m\u001b[39m'\u001b[39m, \u001b[39m'\u001b[39m\u001b[39minline\u001b[39m\u001b[39m'\u001b[39m)\n\u001b[1;32m      5\u001b[0m \u001b[39m#bboxes = t._load_target(0, 'bboxes')\u001b[39;00m\n\u001b[1;32m      6\u001b[0m \u001b[39m#img = t._load_image(0)\u001b[39;00m\n\u001b[0;32m----> 8\u001b[0m img, target, labels \u001b[39m=\u001b[39m t[\u001b[39m0\u001b[39m]\n\u001b[1;32m     10\u001b[0m \u001b[39m# Check if image and targets are loaded correctly\u001b[39;00m\n\u001b[1;32m     11\u001b[0m fig, ax \u001b[39m=\u001b[39m plt\u001b[39m.\u001b[39msubplots(\u001b[39m1\u001b[39m)\n",
      "\u001b[0;31mValueError\u001b[0m: not enough values to unpack (expected 3, got 2)"
     ]
    }
   ],
   "source": [
    "from matplotlib import pyplot as plt\n",
    "from matplotlib.patches import Rectangle\n",
    "\n",
    "%matplotlib inline\n",
    "#bboxes = t._load_target(0, 'bboxes')\n",
    "#img = t._load_image(0)\n",
    "\n",
    "img, bboxes, labels = t[0]\n",
    "\n",
    "# Check if image and targets are loaded correctly\n",
    "fig, ax = plt.subplots(1)\n",
    "ax.imshow(img)\n",
    "for bbox in bboxes:\n",
    "    height = bbox[3] - bbox[1]\n",
    "    width = bbox[2] - bbox[0]\n",
    "    rect = Rectangle((bbox[0], bbox[1]), width, height, linewidth=1, edgecolor='r', facecolor='none')\n",
    "    ax.add_patch(rect)"
   ]
  },
  {
   "cell_type": "code",
   "execution_count": null,
   "metadata": {},
   "outputs": [],
   "source": [
    "from data.dataset import WheatHeadsDataModule\n",
    "\n",
    "m = WheatHeadsDataModule('./data/gwhd_2021', 8, None, None)"
   ]
  },
  {
   "cell_type": "code",
   "execution_count": null,
   "metadata": {},
   "outputs": [],
   "source": []
  }
 ],
 "metadata": {
  "kernelspec": {
   "display_name": "masters-pt",
   "language": "python",
   "name": "python3"
  },
  "language_info": {
   "codemirror_mode": {
    "name": "ipython",
    "version": 3
   },
   "file_extension": ".py",
   "mimetype": "text/x-python",
   "name": "python",
   "nbconvert_exporter": "python",
   "pygments_lexer": "ipython3",
   "version": "3.10.9"
  },
  "orig_nbformat": 4,
  "vscode": {
   "interpreter": {
    "hash": "a7f3476f6f4e819aacaf6e07d5335015c6631c94833f82990f5f57300cd500a7"
   }
  }
 },
 "nbformat": 4,
 "nbformat_minor": 2
}
