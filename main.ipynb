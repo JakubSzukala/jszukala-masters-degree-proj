{
 "cells": [
  {
   "cell_type": "code",
   "execution_count": 4,
   "metadata": {},
   "outputs": [
    {
     "name": "stdout",
     "output_type": "stream",
     "text": [
      "Checking environment variables...\n",
      "Environment variables exist.\n"
     ]
    }
   ],
   "source": [
    "import numpy as np\n",
    "import torch\n",
    "\n",
    "import os\n",
    "\n",
    "from data.adapter import load_gwhd_df, GwhdToYoloAdapter\n",
    "\n",
    "print(\"Checking environment variables...\")\n",
    "assert 'PROJ_PATH' in os.environ\n",
    "assert 'YOLOV7_ROOT_DIR' in os.environ\n",
    "assert 'DATASET_MD5' in os.environ\n",
    "assert 'DATASET_ROOT_DIR' in os.environ\n",
    "assert 'DATA_BUCKET' in os.environ\n",
    "print(\"Environment variables exist.\")\n",
    "\n",
    "DATASET_ROOT_DIR = os.environ['DATASET_ROOT_DIR']\n",
    "\n",
    "df = load_gwhd_df(os.path.join(DATASET_ROOT_DIR, 'competition_train.csv'))\n",
    "df"
   ]
  },
  {
   "cell_type": "code",
   "execution_count": 3,
   "metadata": {},
   "outputs": [
    {
     "ename": "NameError",
     "evalue": "name 't' is not defined",
     "output_type": "error",
     "traceback": [
      "\u001b[0;31m---------------------------------------------------------------------------\u001b[0m",
      "\u001b[0;31mNameError\u001b[0m                                 Traceback (most recent call last)",
      "Cell \u001b[0;32mIn[3], line 8\u001b[0m\n\u001b[1;32m      4\u001b[0m get_ipython()\u001b[39m.\u001b[39mrun_line_magic(\u001b[39m'\u001b[39m\u001b[39mmatplotlib\u001b[39m\u001b[39m'\u001b[39m, \u001b[39m'\u001b[39m\u001b[39minline\u001b[39m\u001b[39m'\u001b[39m)\n\u001b[1;32m      5\u001b[0m \u001b[39m#bboxes = t._load_target(0, 'bboxes')\u001b[39;00m\n\u001b[1;32m      6\u001b[0m \u001b[39m#img = t._load_image(0)\u001b[39;00m\n\u001b[0;32m----> 8\u001b[0m img, bboxes, labels \u001b[39m=\u001b[39m t[\u001b[39m0\u001b[39m]\n\u001b[1;32m     10\u001b[0m \u001b[39m# Check if image and targets are loaded correctly\u001b[39;00m\n\u001b[1;32m     11\u001b[0m fig, ax \u001b[39m=\u001b[39m plt\u001b[39m.\u001b[39msubplots(\u001b[39m1\u001b[39m)\n",
      "\u001b[0;31mNameError\u001b[0m: name 't' is not defined"
     ]
    }
   ],
   "source": [
    "from matplotlib import pyplot as plt\n",
    "from matplotlib.patches import Rectangle\n",
    "\n",
    "%matplotlib inline\n",
    "#bboxes = t._load_target(0, 'bboxes')\n",
    "#img = t._load_image(0)\n",
    "\n",
    "img, bboxes, labels = t[0]\n",
    "\n",
    "# Check if image and targets are loaded correctly\n",
    "fig, ax = plt.subplots(1)\n",
    "ax.imshow(img)\n",
    "for bbox in bboxes:\n",
    "    height = bbox[3] - bbox[1]\n",
    "    width = bbox[2] - bbox[0]\n",
    "    rect = Rectangle((bbox[0], bbox[1]), width, height, linewidth=1, edgecolor='r', facecolor='none')\n",
    "    ax.add_patch(rect)"
   ]
  },
  {
   "cell_type": "code",
   "execution_count": null,
   "metadata": {},
   "outputs": [],
   "source": [
    "from data.dataset import WheatHeadsDataModule\n",
    "\n",
    "m = WheatHeadsDataModule('./data/gwhd_2021', 8, None, None)"
   ]
  },
  {
   "cell_type": "code",
   "execution_count": null,
   "metadata": {},
   "outputs": [],
   "source": []
  }
 ],
 "metadata": {
  "kernelspec": {
   "display_name": "custom-yolov7",
   "language": "python",
   "name": "python3"
  },
  "language_info": {
   "codemirror_mode": {
    "name": "ipython",
    "version": 3
   },
   "file_extension": ".py",
   "mimetype": "text/x-python",
   "name": "python",
   "nbconvert_exporter": "python",
   "pygments_lexer": "ipython3",
   "version": "3.10.11"
  },
  "orig_nbformat": 4,
  "vscode": {
   "interpreter": {
    "hash": "52cc7a0748ce481f090a41d96b5720e97f342ad62d8df62e8df585f55174219c"
   }
  }
 },
 "nbformat": 4,
 "nbformat_minor": 2
}
