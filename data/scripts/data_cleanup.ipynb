{
 "cells": [
  {
   "attachments": {},
   "cell_type": "markdown",
   "metadata": {},
   "source": [
    "# Data cleanup notebook\n",
    "This notebook is meant as both cleanup tool for the original dataset from [Zenodo](https://zenodo.org/record/5092309#.ZGumqxlByDQ) and as a documentation on what was changed if one uses already cleaned up dataset (most likely currently hosted privately on google cloud storage instance).\n",
    "\n",
    "If using the notebook as cleanup tool, download original dataset fromm [Zenodo](https://zenodo.org/record/5092309#.ZGumqxlByDQ). You can optionally calculate the md5 checksum to verify that the data was downloaded without an error:\n",
    "```bash\n",
    "$ wget --output-document gwhd_2021.zip https://zenodo.org/record/5092309/files/gwhd_2021.zip?download=1 && uznip gwhd_2021.zip\n",
    "$ python3 data_integrity.py <Path to the dataset> <original dataset MD5>\n",
    "```\n",
    "Then export environment variable **DATASET_ROOT_DIR** with path where the dataset was placed and then run this notebook. Remember to run the notebook from the terminal where **DATASET_ROOT_DIR** was exported!\n",
    "\n",
    "If using this notebook as documentation, there is no need to run it as the data should already be cleaned up."
   ]
  },
  {
   "cell_type": "code",
   "execution_count": 1,
   "metadata": {},
   "outputs": [
    {
     "name": "stdout",
     "output_type": "stream",
     "text": [
      "Checking environment variables...\n",
      "Environment variables exist.\n"
     ]
    }
   ],
   "source": [
    "import os\n",
    "\n",
    "print(\"Checking environment variables...\")\n",
    "assert 'PROJ_PATH' in os.environ\n",
    "assert 'YOLOV7_ROOT_DIR' in os.environ\n",
    "assert 'DATASET_MD5' in os.environ\n",
    "assert 'ORIGINAL_DATASET_MD5' in os.environ\n",
    "assert 'DATASET_ROOT_DIR' in os.environ\n",
    "assert 'DATA_BUCKET' in os.environ\n",
    "print(\"Environment variables exist.\")\n",
    "\n",
    "DATASET_ROOT_DIR = os.environ['DATASET_ROOT_DIR']"
   ]
  },
  {
   "cell_type": "code",
   "execution_count": null,
   "metadata": {},
   "outputs": [],
   "source": [
    "from tqdm import tqdm\n",
    "from PIL import Image\n",
    "\n",
    "\"\"\"\n",
    "All images in the dataset have .png extension, but some of them are actually .jpg files.\n",
    "It probably is not a problem during the training, but default image viewer is not opening these\n",
    "files correctly.\n",
    "\n",
    "Convert them all to actuall .png files.\n",
    "\"\"\"\n",
    "images_dir = f'{DATASET_ROOT_DIR}/images'\n",
    "for img_name in tqdm.tqdm(os.listdir(images_dir)):\n",
    "    try:\n",
    "        img = Image.open(img_name)\n",
    "        img.save(img_name, format='PNG')\n",
    "    except OSError as e:\n",
    "        print(f\"Couldn't convert {img_name} due to {e}, skipping...\")"
   ]
  },
  {
   "cell_type": "code",
   "execution_count": 2,
   "metadata": {},
   "outputs": [],
   "source": [
    "import pandas as pd\n",
    "\n",
    "train_df = pd.read_csv(f'{DATASET_ROOT_DIR}/competition_train.csv')\n",
    "test_df = pd.read_csv(f'{DATASET_ROOT_DIR}/competition_test.csv')\n",
    "val_df = pd.read_csv(f'{DATASET_ROOT_DIR}/competition_val.csv')\n",
    "df = pd.concat([train_df, test_df, val_df])"
   ]
  },
  {
   "cell_type": "code",
   "execution_count": 4,
   "metadata": {},
   "outputs": [
    {
     "ename": "FileNotFoundError",
     "evalue": "[Errno 2] No such file or directory: '/home/js/gwhd_2021/images/b11b3c68d79f4025ff7f542587ab91a67dfe55be69d1fb63db4bcbcb108284a9.png'",
     "output_type": "error",
     "traceback": [
      "\u001b[0;31m---------------------------------------------------------------------------\u001b[0m",
      "\u001b[0;31mFileNotFoundError\u001b[0m                         Traceback (most recent call last)",
      "Cell \u001b[0;32mIn[4], line 3\u001b[0m\n\u001b[1;32m      1\u001b[0m \u001b[39m# Image b11b3c68d79f4025ff7f542587ab91a67dfe55be69d1fb63db4bcbcb108284a9.png is corrupted so we remove it\u001b[39;00m\n\u001b[1;32m      2\u001b[0m \u001b[39m# It throws error that the file is truncated. It opens normally in default image viewer but not in imagemagick\u001b[39;00m\n\u001b[0;32m----> 3\u001b[0m os\u001b[39m.\u001b[39;49mremove(os\u001b[39m.\u001b[39;49mpath\u001b[39m.\u001b[39;49mjoin(DATASET_ROOT_DIR, \u001b[39m'\u001b[39;49m\u001b[39mimages\u001b[39;49m\u001b[39m'\u001b[39;49m, \u001b[39m'\u001b[39;49m\u001b[39mb11b3c68d79f4025ff7f542587ab91a67dfe55be69d1fb63db4bcbcb108284a9.png\u001b[39;49m\u001b[39m'\u001b[39;49m))\n",
      "\u001b[0;31mFileNotFoundError\u001b[0m: [Errno 2] No such file or directory: '/home/js/gwhd_2021/images/b11b3c68d79f4025ff7f542587ab91a67dfe55be69d1fb63db4bcbcb108284a9.png'"
     ]
    }
   ],
   "source": [
    "\"\"\"\n",
    "Image b11b3c68d79f4025ff7f542587ab91a67dfe55be69d1fb63db4bcbcb108284a9.png is corrupted so we remove it\n",
    "It throws error that the file is truncated. It opens normally in default image viewer but not in imagemagick\n",
    "\"\"\"\n",
    "os.remove(os.path.join(DATASET_ROOT_DIR, 'images', 'b11b3c68d79f4025ff7f542587ab91a67dfe55be69d1fb63db4bcbcb108284a9.png'))"
   ]
  },
  {
   "cell_type": "code",
   "execution_count": 5,
   "metadata": {},
   "outputs": [
    {
     "name": "stdout",
     "output_type": "stream",
     "text": [
      "2070    d88963636d49127bda0597ef73f1703e92d6f111caefc4...\n",
      "2079    1961bcf453d5b2206c428c1c14fe55d1f26f3c655db0a2...\n",
      "1038    da9846512ff19b8cd7278c8c973f75d36de8c4eb4e593b...\n",
      "Name: image_name, dtype: object\n"
     ]
    }
   ],
   "source": [
    "\"\"\"\n",
    "Check if there is leak between train, test and val sets\n",
    "\"\"\"\n",
    "if not df['image_name'].nunique() == df.shape[0]:\n",
    "    # This are the error files that come up during symlink creation in yolo format conversion\n",
    "    print(df.loc[df.duplicated(subset=['image_name'])]['image_name'])\n",
    "\n",
    "# TODO: Fix these labels"
   ]
  },
  {
   "cell_type": "code",
   "execution_count": 6,
   "metadata": {},
   "outputs": [
    {
     "ename": "NameError",
     "evalue": "name 'np' is not defined",
     "output_type": "error",
     "traceback": [
      "\u001b[0;31m---------------------------------------------------------------------------\u001b[0m",
      "\u001b[0;31mNameError\u001b[0m                                 Traceback (most recent call last)",
      "Cell \u001b[0;32mIn[6], line 10\u001b[0m\n\u001b[1;32m      8\u001b[0m bboxes \u001b[39m=\u001b[39m [bbox\u001b[39m.\u001b[39msplit(\u001b[39m'\u001b[39m\u001b[39m \u001b[39m\u001b[39m'\u001b[39m) \u001b[39mfor\u001b[39;00m bbox \u001b[39min\u001b[39;00m bboxes]\n\u001b[1;32m      9\u001b[0m bboxes \u001b[39m=\u001b[39m [[\u001b[39mfloat\u001b[39m(i) \u001b[39mfor\u001b[39;00m i \u001b[39min\u001b[39;00m bbox] \u001b[39mfor\u001b[39;00m bbox \u001b[39min\u001b[39;00m bboxes]\n\u001b[0;32m---> 10\u001b[0m bboxes \u001b[39m=\u001b[39m np\u001b[39m.\u001b[39marray(bboxes, dtype\u001b[39m=\u001b[39mnp\u001b[39m.\u001b[39mfloat32)\n\u001b[1;32m     11\u001b[0m uniques, count \u001b[39m=\u001b[39m np\u001b[39m.\u001b[39munique(bboxes, axis\u001b[39m=\u001b[39m\u001b[39m0\u001b[39m, return_counts\u001b[39m=\u001b[39m\u001b[39mTrue\u001b[39;00m)\n\u001b[1;32m     12\u001b[0m dup \u001b[39m=\u001b[39m uniques[count \u001b[39m>\u001b[39m \u001b[39m1\u001b[39m]\n",
      "\u001b[0;31mNameError\u001b[0m: name 'np' is not defined"
     ]
    }
   ],
   "source": [
    "import numpy as np\n",
    "\n",
    "\"\"\"\n",
    "Check if there are any duplicate bboxes in the dataset\n",
    "\"\"\"\n",
    "for row in df.iterrows():\n",
    "    if row[1]['BoxesString'] == 'no_box':\n",
    "        continue\n",
    "    bboxes = row[1]['BoxesString'].split(';')\n",
    "    bboxes = [bbox.split(' ') for bbox in bboxes]\n",
    "    bboxes = [[float(i) for i in bbox] for bbox in bboxes]\n",
    "    bboxes = np.array(bboxes, dtype=np.float32)\n",
    "    uniques, count = np.unique(bboxes, axis=0, return_counts=True)\n",
    "    dup = uniques[count > 1]\n",
    "    if dup.size > 0:\n",
    "        print(row[1]['image_name'], dup)\n",
    "\n",
    "# TODO: Fix these boxes"
   ]
  }
 ],
 "metadata": {
  "kernelspec": {
   "display_name": "masters-pt",
   "language": "python",
   "name": "python3"
  },
  "language_info": {
   "codemirror_mode": {
    "name": "ipython",
    "version": 3
   },
   "file_extension": ".py",
   "mimetype": "text/x-python",
   "name": "python",
   "nbconvert_exporter": "python",
   "pygments_lexer": "ipython3",
   "version": "3.10.9"
  },
  "orig_nbformat": 4,
  "vscode": {
   "interpreter": {
    "hash": "a7f3476f6f4e819aacaf6e07d5335015c6631c94833f82990f5f57300cd500a7"
   }
  }
 },
 "nbformat": 4,
 "nbformat_minor": 2
}
